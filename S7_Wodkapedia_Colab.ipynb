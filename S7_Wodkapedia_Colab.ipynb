{
  "nbformat": 4,
  "nbformat_minor": 0,
  "metadata": {
    "colab": {
      "provenance": [],
      "authorship_tag": "ABX9TyP/DckoBDoVOgJyoiBu1JAp",
      "include_colab_link": true
    },
    "kernelspec": {
      "name": "python3",
      "display_name": "Python 3"
    },
    "language_info": {
      "name": "python"
    }
  },
  "cells": [
    {
      "cell_type": "markdown",
      "metadata": {
        "id": "view-in-github",
        "colab_type": "text"
      },
      "source": [
        "<a href=\"https://colab.research.google.com/github/VoW314/Warpath-Card-Draw/blob/main/S7_Wodkapedia_Colab.ipynb\" target=\"_parent\"><img src=\"https://colab.research.google.com/assets/colab-badge.svg\" alt=\"Open In Colab\"/></a>"
      ]
    },
    {
      "cell_type": "markdown",
      "source": [
        "# S7 Wodkapedia Offline Code\n",
        "\n",
        "This bot tells the daily cupons for a city depending on the day. It changes cupons at reset much like Warpath does. \n",
        "\n",
        "This project was made quickly to work for a specific case. But as more people and servers want to use this, I have started working on a more unified and better way for these servers to load in their own data. When the S7 DataFrame was added it began to have issues. Since other servers use this bot, I also began to work on an updated class to be able to upgrade as the need increased \n",
        "\n",
        "__For any questions message:__ VodkaOrWodka#5239\n",
        "\n",
        "\n",
        "\n",
        "\n"
      ],
      "metadata": {
        "id": "2FDEFDQaAb-7"
      }
    },
    {
      "cell_type": "markdown",
      "source": [
        "## The wodka class\n",
        "\n",
        "Click this play button. No need to open this up"
      ],
      "metadata": {
        "id": "m4NSEgYjMQ7Z"
      }
    },
    {
      "cell_type": "code",
      "source": [
        "import pandas as pd\n",
        "from tabulate import tabulate\n",
        "import urllib\n",
        "\n",
        "\n",
        "#https://docs.google.com/spreadsheets/d/1HR5Y_L3WokynBAesxRa7kFezbD_6cxbYlqPW7RaWwxY/edit?usp=sharing\n",
        "\n",
        "sheetID = '1HR5Y_L3WokynBAesxRa7kFezbD_6cxbYlqPW7RaWwxY' #id for the google sheet\n",
        "members = pd.read_csv(f\"https://docs.google.com/spreadsheets/d/{sheetID}/export?format=csv\")\n",
        "df7 = pd.DataFrame(members)\n",
        "\n",
        "df3 = pd.DataFrame(members) # will eventually have S3 use its own file\n"
      ],
      "metadata": {
        "id": "Y4Xy9WiR_vxt"
      },
      "execution_count": null,
      "outputs": []
    },
    {
      "cell_type": "code",
      "source": [],
      "metadata": {
        "id": "S-kC6WIHjZu2"
      },
      "execution_count": null,
      "outputs": []
    },
    {
      "cell_type": "markdown",
      "source": [
        "## An Update to the current Class\n",
        "\n",
        "The original version does not scale well. Have been working on this version. Currently the code has been shared with S2, S3, S7, S16 from me. Possibly will be shared to the other servers as it begins to work better.\n",
        "\n",
        "The updates will hopefully allow others to input their card draw files instead of having to manually input it like how it works in the older vod_camp class\n",
        "\n",
        "11/26/22"
      ],
      "metadata": {
        "id": "QZ4C6vDGjaOC"
      }
    },
    {
      "cell_type": "code",
      "source": [
        "\"\"\"\n",
        "Class Update\n",
        "datetime version 4.4\n",
        "\"\"\"\n",
        "\n",
        "from datetime import date, timedelta, timezone\n",
        "import datetime\n",
        "import pandas as pd\n",
        "\n",
        "\n",
        "class camp_search:\n",
        "  def __init(self, server):\n",
        "      \n",
        "      self.server = server\n",
        "\n",
        "      if (server == \"S3\"):\n",
        "        df=df3\n",
        "      else:\n",
        "        df=df7\n",
        "      \n",
        "\n",
        "      self.group1 = list(df.A.dropna())#Col A\n",
        "      self.group2 = list(df.B.dropna()) #Col B\n",
        "      self.group3 = list(df.C.dropna()) #Col C\n",
        "\n",
        "  def to_string(self):\n",
        "    return self.group1, self.group2, self.group3\n",
        "\n",
        "  def get_time_diff(self):\n",
        "    \"\"\"\n",
        "      The current issue with attempting to use\n",
        "      UTC time is that they are 2 different types of \n",
        "      objects. \n",
        "\n",
        "      So what I did instead was take the output of the\n",
        "      utc object, convert it to a string, then take parts of \n",
        "      the string and convert it to integers. \n",
        "\n",
        "      After doing this, I used the integers as parameters\n",
        "      to create a utc date and subtracted to find the \n",
        "      difference\n",
        "      \"\"\"\n",
        "    dt = datetime.datetime.now(timezone.utc)\n",
        "    utc_time = dt.replace(tzinfo=timezone.utc)\n",
        "    utc_time = str(utc_time)\n",
        "    past = date(2022,2,2)\n",
        "\n",
        "\n",
        "      #year\n",
        "    year = \"\"\n",
        "    for i in range(0, 4):\n",
        "      year = year + utc_time[i]\n",
        "    year = int(year)\n",
        "\n",
        "        #month\n",
        "    month = \"\"\n",
        "    for i in range(5, 7):\n",
        "      month = month + utc_time[i]\n",
        "    month = int(month)\n",
        "\n",
        "        #day\n",
        "    day = \"\"\n",
        "    for i in range(8, 10):\n",
        "      day = day + utc_time[i]\n",
        "    day = int(day)\n",
        "\n",
        "    now = date(year, month, day)\n",
        "    new_diff = now - past\n",
        "    self.new_diff = new_diff.days - 1\n",
        "\n",
        "\n",
        "    return new_diff\n",
        "\n",
        "    def __str__(self):\n",
        "       return str(self.group1, self.group2, self.group3)\n"
      ],
      "metadata": {
        "id": "nUbdkWCmgtAz"
      },
      "execution_count": 25,
      "outputs": []
    },
    {
      "cell_type": "code",
      "source": [
        "my_draw = camp_search()\n",
        "print(my_draw)"
      ],
      "metadata": {
        "colab": {
          "base_uri": "https://localhost:8080/"
        },
        "id": "BvNJJdXYhGhB",
        "outputId": "ed2dd0f3-8ae5-4759-dba0-d5b72a9c9456"
      },
      "execution_count": 27,
      "outputs": [
        {
          "output_type": "stream",
          "name": "stdout",
          "text": [
            "<__main__.camp_search object at 0x7fc695872b90>\n"
          ]
        }
      ]
    },
    {
      "cell_type": "code",
      "execution_count": null,
      "metadata": {
        "id": "KsuhK0cnKXUp"
      },
      "outputs": [],
      "source": [
        "\"\"\"\n",
        "This is the the class that makes the ecy bot work.\n",
        "Much the code is based of the shared colab first written\n",
        "early in 2022. \n",
        "\n",
        "This is really basic code. Nothing too fancy about it. \n",
        "The class exists so that while running it, I would have a\n",
        "clean main.py file\n",
        "\n",
        "More in depth description of the code workings within class\n",
        "\n",
        "datetime version: 4.4\n",
        "\"\"\"\n",
        "\n",
        "\n",
        "from datetime import date, timedelta, timezone\n",
        "import datetime\n",
        "import pandas as pd\n",
        "\n",
        "class vod_camp:\n",
        "\n",
        "    def __init__(self):\n",
        "        #https://docs.google.com/spreadsheets/d/13IujTmtzYI9ZRTvIbSgbZr070wXbr3en0pksyfZzqCk/edit?usp=sharing\n",
        "\n",
        "\n",
        "          \n",
        "\n",
        "        self.group1 = list(df7.A.dropna())#Col A\n",
        "        self.group2 = list(df7.B.dropna()) #Col B\n",
        "        self.group3 = list(df7.C.dropna()) #Col C\n",
        "\n",
        "        camp_name=camp_name.lower()\n",
        "        self.camp = camp_name.strip(\"++\")\n",
        "\n",
        "        \n",
        "        \n",
        "        self.useArray = self.group1 #default city group to use\n",
        "        self.camp_list = [\"Liberty\", \"Vanguard\", \"Martyr\"]\n",
        "        #finds the city group to use based on difference in the days\n",
        "\n",
        "\n",
        "      \n",
        "\n",
        "\n",
        "    def find_date(self):\n",
        "\n",
        "        \"\"\"\n",
        "        The current issue with attempting to use\n",
        "        UTC time is that they are 2 different types of \n",
        "        objects. \n",
        "\n",
        "        So what I did instead was take the output of the\n",
        "        utc object, convert it to a string, then take parts of \n",
        "        the string and convert it to integers. \n",
        "\n",
        "        After doing this, I used the integers as parameters\n",
        "        to create a utc date and subtracted to find the \n",
        "        difference\n",
        "        \"\"\"\n",
        "\n",
        "        dt = datetime.datetime.now(timezone.utc)\n",
        "        utc_time = dt.replace(tzinfo=timezone.utc)\n",
        "        utc_time = str(utc_time)\n",
        "        past = date(2022,2,2)\n",
        "\n",
        "\n",
        "        #year\n",
        "        year = \"\"\n",
        "        for i in range(0, 4):\n",
        "            year = year + utc_time[i]\n",
        "        year = int(year)\n",
        "\n",
        "        #month\n",
        "        month = \"\"\n",
        "        for i in range(5, 7):\n",
        "            month = month + utc_time[i]\n",
        "        month = int(month)\n",
        "\n",
        "        #day\n",
        "        day = \"\"\n",
        "        for i in range(8, 10):\n",
        "            day = day + utc_time[i]\n",
        "        day = int(day)\n",
        "\n",
        "        now = date(year, month, day)\n",
        "        new_diff = now - past\n",
        "        self.new_diff = new_diff.days - 1\n",
        "\n",
        "\n",
        "        return new_diff\n",
        "\n",
        "\n",
        "    def __str__(self):\n",
        "       return str(self.useArray)\n",
        "\n",
        "    \"\"\"\n",
        "    Groups 1,2, and 3 are the three city groups. There is no good\n",
        "    way to describe what each function does. The best explanation is \n",
        "    that depending on the city and the difference between the first deployment\n",
        "    and today % 3, the function will return the correct city group\n",
        "    \"\"\"\n",
        "\n",
        "    #city group 1\n",
        "    def city_group1(self):\n",
        "        if self.new_diff %3 == 0:\n",
        "            return \"Liberty\"\n",
        "        elif self.new_diff%3 ==1:\n",
        "            return \"Martyr\"\n",
        "        elif self.new_diff%3 ==2:\n",
        "            return \"Vanguard\"\n",
        "            \n",
        "\n",
        "    #city group 2\n",
        "    def city_group2(self):\n",
        "        if self.new_diff%3 == 1:\n",
        "            return \"Liberty\"\n",
        "        elif self.new_diff%3 ==2:\n",
        "            return \"Martyr\"\n",
        "        elif self.new_diff%3 ==0:\n",
        "            return \"Vanguard\"\n",
        "\n",
        "    #city group 3\n",
        "    def city_group3(self):\n",
        "        if self.new_diff%3 == 2:\n",
        "            return \"Liberty\"\n",
        "        elif self.new_diff%3 ==0:\n",
        "            return \"Martyr\"\n",
        "        elif self.new_diff%3 ==1:\n",
        "            return \"Vanguard\"\n",
        "\n",
        "\n",
        "\n",
        "    def find_drawpool(self):\n",
        "        city = self.camp\n",
        "        if city in self.group2:\n",
        "            self.useArray = self.group2\n",
        "        elif city in self.group3:\n",
        "            self.useArray = self.group3\n",
        "\n",
        "        \n",
        "        \"\"\"\n",
        "        I know it is a lot of else ifs, but\n",
        "        this is just some initial code to start the \n",
        "        project. I will be trying to figure out a better\n",
        "        way to do this. \n",
        "        \"\"\"\n",
        "\n",
        "        if self.useArray == self.group1:\n",
        "            return self.city_group1()\n",
        "        elif self.useArray == self.group2:\n",
        "            return self.city_group2()\n",
        "        elif self.useArray == self.group3:\n",
        "            return self.city_group3()\n",
        "\n",
        "    \n",
        "    def show_list(self):\n",
        "        city = self.camp\n",
        "        if city in self.group2:\n",
        "            self.useArray = self.group2\n",
        "        elif city in self.group3:\n",
        "            self.useArray = self.group3\n",
        "\n",
        "        return self.useArray\n",
        "\n",
        "\n",
        "    \"\"\"\n",
        "    (WIP)\n",
        "    given a certain camp, the function will return all cities\n",
        "    in the same group as the camp. For the bot\n",
        "    this would likely be the first check to see if it\n",
        "    is a camp or city. \n",
        "    \"\"\"\n",
        "    \n",
        "    def find_camp(self, my_camp):\n",
        "        my_camp = my_camp.strip(\"++\")\n",
        "        if my_camp in self.camp_list:\n",
        "            print(self.camp_list)\n",
        "\n",
        "\n",
        "    "
      ]
    },
    {
      "cell_type": "markdown",
      "source": [
        "## Click\n",
        "The play button and scroll all the way down. In case you accidentally type something, close the tab and open it via the link again to reset it. :D\n"
      ],
      "metadata": {
        "id": "dYFt4ZOgMWRw"
      }
    },
    {
      "cell_type": "code",
      "source": [
        "camp1 = vod_camp(\"Stalingrad\")\n",
        "camp2 = vod_camp(\"Madrid\")\n",
        "camp3 = vod_camp(\"Mexico City\")\n",
        "\n",
        "\n",
        "camp1.find_date()\n",
        "camp2.find_date()\n",
        "camp3.find_date()\n",
        "\n",
        "draw1 = camp1.find_drawpool()\n",
        "draw2 = camp2.find_drawpool()\n",
        "draw3 = camp3.find_drawpool()\n",
        "\n",
        "city_list = camp1.show_list()\n",
        "city_list2 = camp2.show_list()\n",
        "city_list3 = camp3.show_list()\n",
        "\n",
        "print(\"Vanguard\")\n",
        "print(city_list)\n",
        "\n",
        "print(\"Liberty\")\n",
        "print(city_list2)\n",
        "\n",
        "print(\"Martyr\")\n",
        "print(city_list3)"
      ],
      "metadata": {
        "colab": {
          "base_uri": "https://localhost:8080/"
        },
        "id": "AnMmywNFKfyM",
        "outputId": "1d3e50fa-8488-4b30-a41c-9a009f0698c7"
      },
      "execution_count": 8,
      "outputs": [
        {
          "output_type": "stream",
          "name": "stdout",
          "text": [
            "<class 'list'>\n",
            "<class 'list'>\n",
            "<class 'list'>\n",
            "Vanguard\n",
            "['Stalingrad', 'Leningrad', 'Cairo', 'Ankara', 'Houston', 'Atlanta', 'Detroit', 'Washington', 'Tunisia', 'Barcelona', 'Ateniz', 'Genoa', 'Fortaleza', 'Panama', 'Recife', 'Carcaras', 'Portland', 'Salt Lake City', 'Las Vegas', 'Vancouver', 'Osio', 'Bristol', 'Glasgow', 'Manchester', 'Toul', 'Dijon', 'Munich', 'Nancy', 'League', 'Luxembourg', 'Rennes', 'Frankfurt', 'Bremen', 'Tallinn', 'Gdansk', 'Poznan', 'Krakow', 'Belgrade', 'Prauge']\n",
            "Liberty\n",
            "['Stalingrad', 'Leningrad', 'Cairo', 'Ankara', 'Houston', 'Atlanta', 'Detroit', 'Washington', 'Tunisia', 'Barcelona', 'Ateniz', 'Genoa', 'Fortaleza', 'Panama', 'Recife', 'Carcaras', 'Portland', 'Salt Lake City', 'Las Vegas', 'Vancouver', 'Osio', 'Bristol', 'Glasgow', 'Manchester', 'Toul', 'Dijon', 'Munich', 'Nancy', 'League', 'Luxembourg', 'Rennes', 'Frankfurt', 'Bremen', 'Tallinn', 'Gdansk', 'Poznan', 'Krakow', 'Belgrade', 'Prauge']\n",
            "Martyr\n",
            "['Stalingrad', 'Leningrad', 'Cairo', 'Ankara', 'Houston', 'Atlanta', 'Detroit', 'Washington', 'Tunisia', 'Barcelona', 'Ateniz', 'Genoa', 'Fortaleza', 'Panama', 'Recife', 'Carcaras', 'Portland', 'Salt Lake City', 'Las Vegas', 'Vancouver', 'Osio', 'Bristol', 'Glasgow', 'Manchester', 'Toul', 'Dijon', 'Munich', 'Nancy', 'League', 'Luxembourg', 'Rennes', 'Frankfurt', 'Bremen', 'Tallinn', 'Gdansk', 'Poznan', 'Krakow', 'Belgrade', 'Prauge']\n"
          ]
        }
      ]
    },
    {
      "cell_type": "markdown",
      "source": [
        "## The Data Frame Cols"
      ],
      "metadata": {
        "id": "XA9Hoc_3fsPK"
      }
    },
    {
      "cell_type": "code",
      "source": [
        "list(df.A.dropna())"
      ],
      "metadata": {
        "colab": {
          "base_uri": "https://localhost:8080/"
        },
        "id": "nlXgvJ9GffDy",
        "outputId": "1581ad72-87a7-4ee5-85a0-f72d3fb5f863"
      },
      "execution_count": null,
      "outputs": [
        {
          "output_type": "execute_result",
          "data": {
            "text/plain": [
              "0         Stalingrad\n",
              "1          Leningrad\n",
              "2              Cairo\n",
              "3             Ankara\n",
              "4            Houston\n",
              "5            Atlanta\n",
              "6            Detroit\n",
              "7         Washington\n",
              "8            Tunisia\n",
              "9          Barcelona\n",
              "10            Ateniz\n",
              "11             Genoa\n",
              "12         Fortaleza\n",
              "13            Panama\n",
              "14            Recife\n",
              "15          Carcaras\n",
              "16          Portland\n",
              "17    Salt Lake City\n",
              "18         Las Vegas\n",
              "19         Vancouver\n",
              "20              Osio\n",
              "21           Bristol\n",
              "22           Glasgow\n",
              "23        Manchester\n",
              "24              Toul\n",
              "25             Dijon\n",
              "26            Munich\n",
              "27             Nancy\n",
              "28            League\n",
              "29        Luxembourg\n",
              "30            Rennes\n",
              "31         Frankfurt\n",
              "32            Bremen\n",
              "33           Tallinn\n",
              "34            Gdansk\n",
              "35            Poznan\n",
              "36            Krakow\n",
              "37          Belgrade\n",
              "38            Prauge\n",
              "39               NaN\n",
              "40               NaN\n",
              "41               NaN\n",
              "42               NaN\n",
              "43               NaN\n",
              "44               NaN\n",
              "45               NaN\n",
              "46               NaN\n",
              "47               NaN\n",
              "48               NaN\n",
              "49               NaN\n",
              "50               NaN\n",
              "51               NaN\n",
              "52               NaN\n",
              "53               NaN\n",
              "Name: A, dtype: object"
            ]
          },
          "metadata": {},
          "execution_count": 2
        }
      ]
    },
    {
      "cell_type": "code",
      "source": [
        "list(df.B.dropna())"
      ],
      "metadata": {
        "colab": {
          "base_uri": "https://localhost:8080/"
        },
        "id": "K3SdR0onfibJ",
        "outputId": "9226b543-fb8b-4943-8e47-4645b8680224"
      },
      "execution_count": null,
      "outputs": [
        {
          "output_type": "execute_result",
          "data": {
            "text/plain": [
              "0           Madrid\n",
              "1           Naples\n",
              "2       Birmingham\n",
              "3        Edinburgh\n",
              "4         Brussles\n",
              "5           Geneva\n",
              "6             Riga\n",
              "7         Budapest\n",
              "8           Warsaw\n",
              "9          Hamburg\n",
              "10      Cincinnati\n",
              "11          Boston\n",
              "12     Saint Louis\n",
              "13        Richmond\n",
              "14            Kyiv\n",
              "15      Sevastapol\n",
              "16           Minsk\n",
              "17         Kharkiv\n",
              "18        Damascus\n",
              "19      Alexandria\n",
              "20          Tehran\n",
              "21          Riyadh\n",
              "22    Buenos Aires\n",
              "23    Porto Alegre\n",
              "24        Salvador\n",
              "25           Belem\n",
              "26          Havana\n",
              "27          Merida\n",
              "28            Lima\n",
              "29        San Jose\n",
              "30         Pheonix\n",
              "31      Sacramento\n",
              "32        Victoria\n",
              "33         Calgary\n",
              "34        Billings\n",
              "35           Boise\n",
              "36       San Diego\n",
              "37     Albuquerque\n",
              "38         El Paso\n",
              "39     San Antonio\n",
              "40        Oklahoma\n",
              "41      Montgomery\n",
              "42           Miami\n",
              "43       Nashville\n",
              "44         Memphis\n",
              "45             NaN\n",
              "46             NaN\n",
              "47             NaN\n",
              "48             NaN\n",
              "49             NaN\n",
              "50             NaN\n",
              "51             NaN\n",
              "52             NaN\n",
              "53             NaN\n",
              "Name: B, dtype: object"
            ]
          },
          "metadata": {},
          "execution_count": 3
        }
      ]
    },
    {
      "cell_type": "code",
      "source": [
        "list(df.C.dropna())"
      ],
      "metadata": {
        "colab": {
          "base_uri": "https://localhost:8080/"
        },
        "id": "RpZyEIxEfiP_",
        "outputId": "ac76df06-5014-4d0d-9504-d6fb15793f14"
      },
      "execution_count": null,
      "outputs": [
        {
          "output_type": "execute_result",
          "data": {
            "text/plain": [
              "0      Mexico City\n",
              "1        Sao Paulo\n",
              "2          Seattle\n",
              "3      Los Angeles\n",
              "4           Vienna\n",
              "5       Copenhagen\n",
              "6           Dallas\n",
              "7     Jacksonville\n",
              "8           Denver\n",
              "9      New Orleans\n",
              "10       Marseille\n",
              "11     Amserterdam\n",
              "12          Zurich\n",
              "13         Orleans\n",
              "14         Vilnius\n",
              "15            Lviv\n",
              "16         Bryansk\n",
              "17           Kursk\n",
              "18        Voronezh\n",
              "19          Rostov\n",
              "20          Odessa\n",
              "21        Smolensk\n",
              "22         Tbsilli\n",
              "23            Baku\n",
              "24           Erbil\n",
              "25         Baghdad\n",
              "26           Basra\n",
              "27      Port Sudan\n",
              "28        Benghazi\n",
              "29         Antalya\n",
              "30    Thessaloniki\n",
              "31        Sarajevo\n",
              "32         Tripoli\n",
              "33         Catania\n",
              "34           Turin\n",
              "35        Florence\n",
              "36          Lisbon\n",
              "37          Bilbao\n",
              "38     Springfield\n",
              "39          Kansas\n",
              "40        Colombia\n",
              "41      Charleston\n",
              "42         Toronto\n",
              "43      Pittsburgh\n",
              "44          Quebec\n",
              "45    Philadelphia\n",
              "46         Abyrden\n",
              "47          Dublin\n",
              "48       Stockholm\n",
              "49          Bergen\n",
              "50       Liberpool\n",
              "51       Sheffield\n",
              "52        Plymouth\n",
              "53            Caen\n",
              "Name: C, dtype: object"
            ]
          },
          "metadata": {},
          "execution_count": 4
        }
      ]
    }
  ]
}
